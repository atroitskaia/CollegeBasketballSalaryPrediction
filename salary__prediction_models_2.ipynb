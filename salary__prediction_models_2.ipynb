{
  "nbformat": 4,
  "nbformat_minor": 0,
  "metadata": {
    "colab": {
      "provenance": [],
      "authorship_tag": "ABX9TyNIMfnkr5+XQ78hfYekrkPm",
      "include_colab_link": true
    },
    "kernelspec": {
      "name": "python3",
      "display_name": "Python 3"
    },
    "language_info": {
      "name": "python"
    }
  },
  "cells": [
    {
      "cell_type": "markdown",
      "metadata": {
        "id": "view-in-github",
        "colab_type": "text"
      },
      "source": [
        "<a href=\"https://colab.research.google.com/github/atroitskaia/CollegeBasketballSalaryPrediction/blob/main/salary__prediction_models_2.ipynb\" target=\"_parent\"><img src=\"https://colab.research.google.com/assets/colab-badge.svg\" alt=\"Open In Colab\"/></a>"
      ]
    },
    {
      "cell_type": "markdown",
      "source": [
        "### This notebook contains additional models for the Salary Prediction Project\n",
        "1. XG Boost with new engeneered features\n",
        "2."
      ],
      "metadata": {
        "id": "y9xt_i2K6t2G"
      }
    },
    {
      "cell_type": "code",
      "execution_count": null,
      "metadata": {
        "id": "-u7cdm9t6qGD"
      },
      "outputs": [],
      "source": []
    }
  ]
}